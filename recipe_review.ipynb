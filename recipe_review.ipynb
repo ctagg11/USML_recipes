{
 "cells": [
  {
   "cell_type": "markdown",
   "metadata": {
    "id": "jM4n6PXQYhsO"
   },
   "source": [
    "# **Recipe Data - EDA**\n",
    "\n",
    "In this secion, we'll explore the raw recipe dataset, found here: \n",
    "\n",
    "\n",
    "https://www.kaggle.com/datasets/shuyangli94/food-com-recipes-and-user-interactions?datasetId=311962&sortBy=voteCount\n",
    "\n",
    "\n",
    "The data comes from food.com - let's first pull in the data and take a look at the basic structure\n"
   ]
  },
  {
   "cell_type": "markdown",
   "metadata": {
    "id": "fQ1g9isqbTyG"
   },
   "source": [
    "## Setup:"
   ]
  },
  {
   "cell_type": "code",
   "execution_count": 1,
   "metadata": {
    "id": "8Jbs0L9IYpMZ"
   },
   "outputs": [],
   "source": [
    "import pandas as pd\n",
    "import seaborn as sns\n",
    "import numpy as np\n",
    "import os"
   ]
  },
  {
   "cell_type": "code",
   "execution_count": 2,
   "metadata": {
    "id": "mAJhbHKlUPNY"
   },
   "outputs": [],
   "source": [
    "path = '/content/drive/MyDrive/recipe_recos'"
   ]
  },
  {
   "cell_type": "code",
   "execution_count": 3,
   "metadata": {
    "colab": {
     "base_uri": "https://localhost:8080/"
    },
    "id": "OLaQauXSToAm",
    "outputId": "5d55d47d-71e7-4af2-b681-b03d5980a95f"
   },
   "outputs": [],
   "source": [
    "# from google.colab import drive\n",
    "# drive.mount('/content/drive/')"
   ]
  },
  {
   "cell_type": "code",
   "execution_count": 4,
   "metadata": {
    "colab": {
     "base_uri": "https://localhost:8080/",
     "height": 36
    },
    "id": "bUMQLu_kVMYV",
    "outputId": "8f7c149a-f228-452b-ddcb-1d9fb1c85d30"
   },
   "outputs": [],
   "source": [
    "df_review = pd.read_csv('RAW_interactions.csv') # import review data\n",
    "df_recipe = pd.read_csv('RAW_recipes.csv') # import review data"
   ]
  },
  {
   "cell_type": "code",
   "execution_count": 5,
   "metadata": {
    "id": "AA1Dkv4CU4M_"
   },
   "outputs": [],
   "source": [
    "#df_recipe = pd.read_csv(os.path.join(path,'RAW_recipes.csv'))\n",
    "#df_review = pd.read_csv(os.path.join(path,'RAW_interactions.csv')) # import review data"
   ]
  },
  {
   "cell_type": "code",
   "execution_count": 6,
   "metadata": {
    "id": "g88TtEkdX0XR"
   },
   "outputs": [],
   "source": [
    "# df_review_trian = pd.read_csv(os.path.join(path,'interactions_train.csv'),engine='python')\n",
    "# df_review_test  = pd.read_csv(os.path.join(path,'interactions_test.csv'),engine='python')\n",
    "# df_review_val   = pd.read_csv(os.path.join(path,'interactions_validation.csv'),engine='python')"
   ]
  },
  {
   "cell_type": "code",
   "execution_count": 7,
   "metadata": {
    "id": "orOX2NvjYbBB"
   },
   "outputs": [],
   "source": [
    "## Review Data"
   ]
  },
  {
   "cell_type": "markdown",
   "metadata": {
    "id": "wSVI1FWdYcuu"
   },
   "source": [
    "## Review Data"
   ]
  },
  {
   "cell_type": "code",
   "execution_count": 8,
   "metadata": {
    "colab": {
     "base_uri": "https://localhost:8080/",
     "height": 206
    },
    "id": "adkbAOo1fFnm",
    "outputId": "d560751f-f652-42ab-be03-ec8b3c8bb88f"
   },
   "outputs": [
    {
     "data": {
      "text/html": [
       "<div>\n",
       "<style scoped>\n",
       "    .dataframe tbody tr th:only-of-type {\n",
       "        vertical-align: middle;\n",
       "    }\n",
       "\n",
       "    .dataframe tbody tr th {\n",
       "        vertical-align: top;\n",
       "    }\n",
       "\n",
       "    .dataframe thead th {\n",
       "        text-align: right;\n",
       "    }\n",
       "</style>\n",
       "<table border=\"1\" class=\"dataframe\">\n",
       "  <thead>\n",
       "    <tr style=\"text-align: right;\">\n",
       "      <th></th>\n",
       "      <th>user_id</th>\n",
       "      <th>recipe_id</th>\n",
       "      <th>date</th>\n",
       "      <th>rating</th>\n",
       "      <th>review</th>\n",
       "    </tr>\n",
       "  </thead>\n",
       "  <tbody>\n",
       "    <tr>\n",
       "      <th>0</th>\n",
       "      <td>38094</td>\n",
       "      <td>40893</td>\n",
       "      <td>2003-02-17</td>\n",
       "      <td>4</td>\n",
       "      <td>Great with a salad. Cooked on top of stove for...</td>\n",
       "    </tr>\n",
       "    <tr>\n",
       "      <th>1</th>\n",
       "      <td>1293707</td>\n",
       "      <td>40893</td>\n",
       "      <td>2011-12-21</td>\n",
       "      <td>5</td>\n",
       "      <td>So simple, so delicious! Great for chilly fall...</td>\n",
       "    </tr>\n",
       "    <tr>\n",
       "      <th>2</th>\n",
       "      <td>8937</td>\n",
       "      <td>44394</td>\n",
       "      <td>2002-12-01</td>\n",
       "      <td>4</td>\n",
       "      <td>This worked very well and is EASY.  I used not...</td>\n",
       "    </tr>\n",
       "    <tr>\n",
       "      <th>3</th>\n",
       "      <td>126440</td>\n",
       "      <td>85009</td>\n",
       "      <td>2010-02-27</td>\n",
       "      <td>5</td>\n",
       "      <td>I made the Mexican topping and took it to bunk...</td>\n",
       "    </tr>\n",
       "    <tr>\n",
       "      <th>4</th>\n",
       "      <td>57222</td>\n",
       "      <td>85009</td>\n",
       "      <td>2011-10-01</td>\n",
       "      <td>5</td>\n",
       "      <td>Made the cheddar bacon topping, adding a sprin...</td>\n",
       "    </tr>\n",
       "  </tbody>\n",
       "</table>\n",
       "</div>"
      ],
      "text/plain": [
       "   user_id  recipe_id        date  rating  \\\n",
       "0    38094      40893  2003-02-17       4   \n",
       "1  1293707      40893  2011-12-21       5   \n",
       "2     8937      44394  2002-12-01       4   \n",
       "3   126440      85009  2010-02-27       5   \n",
       "4    57222      85009  2011-10-01       5   \n",
       "\n",
       "                                              review  \n",
       "0  Great with a salad. Cooked on top of stove for...  \n",
       "1  So simple, so delicious! Great for chilly fall...  \n",
       "2  This worked very well and is EASY.  I used not...  \n",
       "3  I made the Mexican topping and took it to bunk...  \n",
       "4  Made the cheddar bacon topping, adding a sprin...  "
      ]
     },
     "execution_count": 8,
     "metadata": {},
     "output_type": "execute_result"
    }
   ],
   "source": [
    "df_review.head()"
   ]
  },
  {
   "cell_type": "code",
   "execution_count": 9,
   "metadata": {
    "colab": {
     "base_uri": "https://localhost:8080/"
    },
    "id": "-7J8pYEneDAQ",
    "outputId": "dc80a75a-b393-4cf6-d560-ebc1f64d7fc5"
   },
   "outputs": [
    {
     "data": {
      "text/plain": [
       "user_id      1132367\n",
       "recipe_id    1132367\n",
       "date         1132367\n",
       "rating       1132367\n",
       "review       1132198\n",
       "dtype: int64"
      ]
     },
     "execution_count": 9,
     "metadata": {},
     "output_type": "execute_result"
    }
   ],
   "source": [
    "# how many unique ratings?\n",
    "df_review.count()"
   ]
  },
  {
   "cell_type": "code",
   "execution_count": 10,
   "metadata": {
    "colab": {
     "base_uri": "https://localhost:8080/"
    },
    "id": "GBnSOTcsYejE",
    "outputId": "47a383aa-2b3c-4e6f-b646-4e8cbd494aa0"
   },
   "outputs": [
    {
     "data": {
      "text/plain": [
       "231637"
      ]
     },
     "execution_count": 10,
     "metadata": {},
     "output_type": "execute_result"
    }
   ],
   "source": [
    "# how many recipes have reviews?\n",
    "df_review['recipe_id'].nunique()"
   ]
  },
  {
   "cell_type": "code",
   "execution_count": 11,
   "metadata": {
    "colab": {
     "base_uri": "https://localhost:8080/"
    },
    "id": "__NQJPpedEbI",
    "outputId": "89d9a2c9-5717-4873-80ce-18f460962306"
   },
   "outputs": [
    {
     "data": {
      "text/plain": [
       "226570"
      ]
     },
     "execution_count": 11,
     "metadata": {},
     "output_type": "execute_result"
    }
   ],
   "source": [
    "# how many reviewers?\n",
    "df_review['user_id'].nunique()"
   ]
  },
  {
   "cell_type": "markdown",
   "metadata": {
    "id": "QzOr-xBNmvjo"
   },
   "source": [
    "### Get the count of unique ratings for each user"
   ]
  },
  {
   "cell_type": "code",
   "execution_count": 12,
   "metadata": {
    "colab": {
     "base_uri": "https://localhost:8080/"
    },
    "id": "Pm2h_y8qZa52",
    "outputId": "1a29638b-1967-4095-b0e7-a4a8373e1cbb"
   },
   "outputs": [
    {
     "data": {
      "text/plain": [
       "4.997868208500684"
      ]
     },
     "execution_count": 12,
     "metadata": {},
     "output_type": "execute_result"
    }
   ],
   "source": [
    "# How many ratings do users submit on average:\n",
    "user_rating_counts = df_review.groupby('user_id').agg({'recipe_id':'count','rating':'mean'}).reset_index().sort_values(by='recipe_id')\n",
    "user_rating_counts = user_rating_counts.rename(columns={'recipe_id': 'ratings_count'})\n",
    "user_rating_counts['ratings_count'].mean()"
   ]
  },
  {
   "cell_type": "code",
   "execution_count": 13,
   "metadata": {
    "colab": {
     "base_uri": "https://localhost:8080/",
     "height": 112
    },
    "id": "Rp2mxQ_Yk9pn",
    "outputId": "686f982c-9e2f-4c51-9bea-688fc2015268"
   },
   "outputs": [
    {
     "data": {
      "text/html": [
       "<div>\n",
       "<style scoped>\n",
       "    .dataframe tbody tr th:only-of-type {\n",
       "        vertical-align: middle;\n",
       "    }\n",
       "\n",
       "    .dataframe tbody tr th {\n",
       "        vertical-align: top;\n",
       "    }\n",
       "\n",
       "    .dataframe thead th {\n",
       "        text-align: right;\n",
       "    }\n",
       "</style>\n",
       "<table border=\"1\" class=\"dataframe\">\n",
       "  <thead>\n",
       "    <tr style=\"text-align: right;\">\n",
       "      <th></th>\n",
       "      <th>one_rating</th>\n",
       "      <th>user_id</th>\n",
       "    </tr>\n",
       "  </thead>\n",
       "  <tbody>\n",
       "    <tr>\n",
       "      <th>0</th>\n",
       "      <td>0</td>\n",
       "      <td>60314</td>\n",
       "    </tr>\n",
       "    <tr>\n",
       "      <th>1</th>\n",
       "      <td>1</td>\n",
       "      <td>166256</td>\n",
       "    </tr>\n",
       "  </tbody>\n",
       "</table>\n",
       "</div>"
      ],
      "text/plain": [
       "   one_rating  user_id\n",
       "0           0    60314\n",
       "1           1   166256"
      ]
     },
     "execution_count": 13,
     "metadata": {},
     "output_type": "execute_result"
    }
   ],
   "source": [
    "# how often do reviewers only have 1 rating?\n",
    "user_rating_counts['one_rating'] = np.where(user_rating_counts['ratings_count'] == 1,1,0)\n",
    "user_rating_counts.groupby('one_rating').agg({'user_id':'nunique'}).reset_index()\n",
    "\n"
   ]
  },
  {
   "cell_type": "code",
   "execution_count": 14,
   "metadata": {
    "colab": {
     "base_uri": "https://localhost:8080/"
    },
    "id": "awLXw7FemOyC",
    "outputId": "dc17bf0d-4e65-49f1-c586-d3176ede411e"
   },
   "outputs": [
    {
     "data": {
      "text/plain": [
       "0.7337952950523017"
      ]
     },
     "execution_count": 14,
     "metadata": {},
     "output_type": "execute_result"
    }
   ],
   "source": [
    "166256 / (166256+60314)"
   ]
  },
  {
   "cell_type": "code",
   "execution_count": 15,
   "metadata": {
    "id": "H1K7yBEym4Ov"
   },
   "outputs": [],
   "source": [
    "# bucket the rating count\n",
    "\n",
    "user_rating_counts['rating_bucket'] = np.where(user_rating_counts['ratings_count']==1,\n",
    "                                               \"1\",\n",
    "                                               '')\n",
    "\n",
    "user_rating_counts['rating_bucket'] = np.where((user_rating_counts['ratings_count']>1)&(user_rating_counts['ratings_count']<=10),\n",
    "                                               \"2-10\",\n",
    "                                               user_rating_counts['rating_bucket'])\n",
    "\n",
    "\n",
    "user_rating_counts['rating_bucket'] = np.where((user_rating_counts['ratings_count']>10)&(user_rating_counts['ratings_count']<=100),\n",
    "                                               \"11-100\",\n",
    "                                               user_rating_counts['rating_bucket'])\n",
    "\n",
    "\n",
    "user_rating_counts['rating_bucket'] = np.where((user_rating_counts['ratings_count']>100)&(user_rating_counts['ratings_count']<=1000),\n",
    "                                               \"100-1000\",\n",
    "                                               user_rating_counts['rating_bucket'])\n",
    "\n",
    "\n",
    "user_rating_counts['rating_bucket'] = np.where((user_rating_counts['ratings_count']>1000),\n",
    "                                               \"> 1000\",\n",
    "                                               user_rating_counts['rating_bucket'])"
   ]
  },
  {
   "cell_type": "code",
   "execution_count": 16,
   "metadata": {
    "colab": {
     "base_uri": "https://localhost:8080/",
     "height": 206
    },
    "id": "wDTUFQfXo3r2",
    "outputId": "367ffe10-378f-4579-80da-9add43c472eb"
   },
   "outputs": [
    {
     "data": {
      "text/html": [
       "<div>\n",
       "<style scoped>\n",
       "    .dataframe tbody tr th:only-of-type {\n",
       "        vertical-align: middle;\n",
       "    }\n",
       "\n",
       "    .dataframe tbody tr th {\n",
       "        vertical-align: top;\n",
       "    }\n",
       "\n",
       "    .dataframe thead th {\n",
       "        text-align: right;\n",
       "    }\n",
       "</style>\n",
       "<table border=\"1\" class=\"dataframe\">\n",
       "  <thead>\n",
       "    <tr style=\"text-align: right;\">\n",
       "      <th></th>\n",
       "      <th>rating_bucket</th>\n",
       "      <th>user_id</th>\n",
       "    </tr>\n",
       "  </thead>\n",
       "  <tbody>\n",
       "    <tr>\n",
       "      <th>0</th>\n",
       "      <td>1</td>\n",
       "      <td>166256</td>\n",
       "    </tr>\n",
       "    <tr>\n",
       "      <th>1</th>\n",
       "      <td>100-1000</td>\n",
       "      <td>1272</td>\n",
       "    </tr>\n",
       "    <tr>\n",
       "      <th>2</th>\n",
       "      <td>11-100</td>\n",
       "      <td>10078</td>\n",
       "    </tr>\n",
       "    <tr>\n",
       "      <th>3</th>\n",
       "      <td>2-10</td>\n",
       "      <td>48868</td>\n",
       "    </tr>\n",
       "    <tr>\n",
       "      <th>4</th>\n",
       "      <td>&gt; 1000</td>\n",
       "      <td>96</td>\n",
       "    </tr>\n",
       "  </tbody>\n",
       "</table>\n",
       "</div>"
      ],
      "text/plain": [
       "  rating_bucket  user_id\n",
       "0             1   166256\n",
       "1      100-1000     1272\n",
       "2        11-100    10078\n",
       "3          2-10    48868\n",
       "4        > 1000       96"
      ]
     },
     "execution_count": 16,
     "metadata": {},
     "output_type": "execute_result"
    }
   ],
   "source": [
    "df_ratings_bucket = user_rating_counts.groupby('rating_bucket').agg({'user_id':'nunique'}).reset_index()\n",
    "df_ratings_bucket"
   ]
  },
  {
   "cell_type": "code",
   "execution_count": 17,
   "metadata": {
    "colab": {
     "base_uri": "https://localhost:8080/",
     "height": 424
    },
    "id": "6Wl1N7zU9gLr",
    "outputId": "5e51fb8c-9f04-4d41-b123-80e7e31d102a"
   },
   "outputs": [
    {
     "data": {
      "text/html": [
       "<div>\n",
       "<style scoped>\n",
       "    .dataframe tbody tr th:only-of-type {\n",
       "        vertical-align: middle;\n",
       "    }\n",
       "\n",
       "    .dataframe tbody tr th {\n",
       "        vertical-align: top;\n",
       "    }\n",
       "\n",
       "    .dataframe thead th {\n",
       "        text-align: right;\n",
       "    }\n",
       "</style>\n",
       "<table border=\"1\" class=\"dataframe\">\n",
       "  <thead>\n",
       "    <tr style=\"text-align: right;\">\n",
       "      <th></th>\n",
       "      <th>user_id</th>\n",
       "      <th>ratings_count</th>\n",
       "      <th>rating</th>\n",
       "      <th>one_rating</th>\n",
       "      <th>rating_bucket</th>\n",
       "    </tr>\n",
       "  </thead>\n",
       "  <tbody>\n",
       "    <tr>\n",
       "      <th>113284</th>\n",
       "      <td>1579230</td>\n",
       "      <td>1</td>\n",
       "      <td>4.000000</td>\n",
       "      <td>1</td>\n",
       "      <td>1</td>\n",
       "    </tr>\n",
       "    <tr>\n",
       "      <th>149938</th>\n",
       "      <td>2744132</td>\n",
       "      <td>1</td>\n",
       "      <td>4.000000</td>\n",
       "      <td>1</td>\n",
       "      <td>1</td>\n",
       "    </tr>\n",
       "    <tr>\n",
       "      <th>149939</th>\n",
       "      <td>2744161</td>\n",
       "      <td>1</td>\n",
       "      <td>5.000000</td>\n",
       "      <td>1</td>\n",
       "      <td>1</td>\n",
       "    </tr>\n",
       "    <tr>\n",
       "      <th>149940</th>\n",
       "      <td>2744177</td>\n",
       "      <td>1</td>\n",
       "      <td>0.000000</td>\n",
       "      <td>1</td>\n",
       "      <td>1</td>\n",
       "    </tr>\n",
       "    <tr>\n",
       "      <th>149942</th>\n",
       "      <td>2744231</td>\n",
       "      <td>1</td>\n",
       "      <td>5.000000</td>\n",
       "      <td>1</td>\n",
       "      <td>1</td>\n",
       "    </tr>\n",
       "    <tr>\n",
       "      <th>...</th>\n",
       "      <td>...</td>\n",
       "      <td>...</td>\n",
       "      <td>...</td>\n",
       "      <td>...</td>\n",
       "      <td>...</td>\n",
       "    </tr>\n",
       "    <tr>\n",
       "      <th>15168</th>\n",
       "      <td>128473</td>\n",
       "      <td>3917</td>\n",
       "      <td>4.908348</td>\n",
       "      <td>0</td>\n",
       "      <td>&gt; 1000</td>\n",
       "    </tr>\n",
       "    <tr>\n",
       "      <th>20019</th>\n",
       "      <td>169430</td>\n",
       "      <td>4076</td>\n",
       "      <td>4.693327</td>\n",
       "      <td>0</td>\n",
       "      <td>&gt; 1000</td>\n",
       "    </tr>\n",
       "    <tr>\n",
       "      <th>43248</th>\n",
       "      <td>383346</td>\n",
       "      <td>4628</td>\n",
       "      <td>4.755186</td>\n",
       "      <td>0</td>\n",
       "      <td>&gt; 1000</td>\n",
       "    </tr>\n",
       "    <tr>\n",
       "      <th>3826</th>\n",
       "      <td>37449</td>\n",
       "      <td>5603</td>\n",
       "      <td>4.783866</td>\n",
       "      <td>0</td>\n",
       "      <td>&gt; 1000</td>\n",
       "    </tr>\n",
       "    <tr>\n",
       "      <th>46329</th>\n",
       "      <td>424680</td>\n",
       "      <td>7671</td>\n",
       "      <td>4.966888</td>\n",
       "      <td>0</td>\n",
       "      <td>&gt; 1000</td>\n",
       "    </tr>\n",
       "  </tbody>\n",
       "</table>\n",
       "<p>226570 rows × 5 columns</p>\n",
       "</div>"
      ],
      "text/plain": [
       "        user_id  ratings_count    rating  one_rating rating_bucket\n",
       "113284  1579230              1  4.000000           1             1\n",
       "149938  2744132              1  4.000000           1             1\n",
       "149939  2744161              1  5.000000           1             1\n",
       "149940  2744177              1  0.000000           1             1\n",
       "149942  2744231              1  5.000000           1             1\n",
       "...         ...            ...       ...         ...           ...\n",
       "15168    128473           3917  4.908348           0        > 1000\n",
       "20019    169430           4076  4.693327           0        > 1000\n",
       "43248    383346           4628  4.755186           0        > 1000\n",
       "3826      37449           5603  4.783866           0        > 1000\n",
       "46329    424680           7671  4.966888           0        > 1000\n",
       "\n",
       "[226570 rows x 5 columns]"
      ]
     },
     "execution_count": 17,
     "metadata": {},
     "output_type": "execute_result"
    }
   ],
   "source": [
    "user_rating_counts"
   ]
  },
  {
   "cell_type": "markdown",
   "metadata": {
    "id": "9b1WHeMq-wzz"
   },
   "source": [
    "### Get the count of reviews per recipe"
   ]
  },
  {
   "cell_type": "code",
   "execution_count": 18,
   "metadata": {
    "colab": {
     "base_uri": "https://localhost:8080/"
    },
    "id": "wb3hXguS-2_L",
    "outputId": "519d8370-a079-4b92-e4bc-4fe83b921dcb"
   },
   "outputs": [
    {
     "data": {
      "text/plain": [
       "4.888541122532238"
      ]
     },
     "execution_count": 18,
     "metadata": {},
     "output_type": "execute_result"
    }
   ],
   "source": [
    "# How many ratings do users submit on average:\n",
    "recipe_rating_counts = df_review.groupby('recipe_id').agg({'user_id':'count','rating':'mean'}).reset_index().sort_values(by='recipe_id')\n",
    "recipe_rating_counts = recipe_rating_counts.rename(columns={'user_id': 'recipe_ratings_count'})\n",
    "recipe_rating_counts['recipe_ratings_count'].mean()"
   ]
  },
  {
   "cell_type": "code",
   "execution_count": 19,
   "metadata": {
    "colab": {
     "base_uri": "https://localhost:8080/",
     "height": 424
    },
    "id": "is6WeRVI-3B6",
    "outputId": "c397d29f-0718-4277-b669-dd315a1fb6bf"
   },
   "outputs": [
    {
     "data": {
      "text/html": [
       "<div>\n",
       "<style scoped>\n",
       "    .dataframe tbody tr th:only-of-type {\n",
       "        vertical-align: middle;\n",
       "    }\n",
       "\n",
       "    .dataframe tbody tr th {\n",
       "        vertical-align: top;\n",
       "    }\n",
       "\n",
       "    .dataframe thead th {\n",
       "        text-align: right;\n",
       "    }\n",
       "</style>\n",
       "<table border=\"1\" class=\"dataframe\">\n",
       "  <thead>\n",
       "    <tr style=\"text-align: right;\">\n",
       "      <th></th>\n",
       "      <th>recipe_id</th>\n",
       "      <th>recipe_ratings_count</th>\n",
       "      <th>rating</th>\n",
       "    </tr>\n",
       "  </thead>\n",
       "  <tbody>\n",
       "    <tr>\n",
       "      <th>0</th>\n",
       "      <td>38</td>\n",
       "      <td>4</td>\n",
       "      <td>4.250000</td>\n",
       "    </tr>\n",
       "    <tr>\n",
       "      <th>1</th>\n",
       "      <td>39</td>\n",
       "      <td>1</td>\n",
       "      <td>3.000000</td>\n",
       "    </tr>\n",
       "    <tr>\n",
       "      <th>2</th>\n",
       "      <td>40</td>\n",
       "      <td>9</td>\n",
       "      <td>4.333333</td>\n",
       "    </tr>\n",
       "    <tr>\n",
       "      <th>3</th>\n",
       "      <td>41</td>\n",
       "      <td>2</td>\n",
       "      <td>4.500000</td>\n",
       "    </tr>\n",
       "    <tr>\n",
       "      <th>4</th>\n",
       "      <td>43</td>\n",
       "      <td>1</td>\n",
       "      <td>1.000000</td>\n",
       "    </tr>\n",
       "    <tr>\n",
       "      <th>...</th>\n",
       "      <td>...</td>\n",
       "      <td>...</td>\n",
       "      <td>...</td>\n",
       "    </tr>\n",
       "    <tr>\n",
       "      <th>231632</th>\n",
       "      <td>537459</td>\n",
       "      <td>1</td>\n",
       "      <td>5.000000</td>\n",
       "    </tr>\n",
       "    <tr>\n",
       "      <th>231633</th>\n",
       "      <td>537485</td>\n",
       "      <td>1</td>\n",
       "      <td>5.000000</td>\n",
       "    </tr>\n",
       "    <tr>\n",
       "      <th>231634</th>\n",
       "      <td>537543</td>\n",
       "      <td>1</td>\n",
       "      <td>0.000000</td>\n",
       "    </tr>\n",
       "    <tr>\n",
       "      <th>231635</th>\n",
       "      <td>537671</td>\n",
       "      <td>1</td>\n",
       "      <td>0.000000</td>\n",
       "    </tr>\n",
       "    <tr>\n",
       "      <th>231636</th>\n",
       "      <td>537716</td>\n",
       "      <td>1</td>\n",
       "      <td>5.000000</td>\n",
       "    </tr>\n",
       "  </tbody>\n",
       "</table>\n",
       "<p>231637 rows × 3 columns</p>\n",
       "</div>"
      ],
      "text/plain": [
       "        recipe_id  recipe_ratings_count    rating\n",
       "0              38                     4  4.250000\n",
       "1              39                     1  3.000000\n",
       "2              40                     9  4.333333\n",
       "3              41                     2  4.500000\n",
       "4              43                     1  1.000000\n",
       "...           ...                   ...       ...\n",
       "231632     537459                     1  5.000000\n",
       "231633     537485                     1  5.000000\n",
       "231634     537543                     1  0.000000\n",
       "231635     537671                     1  0.000000\n",
       "231636     537716                     1  5.000000\n",
       "\n",
       "[231637 rows x 3 columns]"
      ]
     },
     "execution_count": 19,
     "metadata": {},
     "output_type": "execute_result"
    }
   ],
   "source": [
    "recipe_rating_counts"
   ]
  },
  {
   "cell_type": "code",
   "execution_count": 20,
   "metadata": {},
   "outputs": [
    {
     "data": {
      "text/plain": [
       "Text(0, 0.5, 'Dist')"
      ]
     },
     "execution_count": 20,
     "metadata": {},
     "output_type": "execute_result"
    },
    {
     "data": {
      "image/png": "[encoded data removed]",
      "text/plain": [
       "<Figure size 432x288 with 1 Axes>"
      ]
     },
     "metadata": {
      "needs_background": "light"
     },
     "output_type": "display_data"
    }
   ],
   "source": [
    "import numpy as np\n",
    "import matplotlib.pyplot as plt\n",
    "import pandas as pd\n",
    "%matplotlib inline\n",
    "  \n",
    "# # No of Data points\n",
    "# N = 500\n",
    "  \n",
    "# # initializing random values\n",
    "# data = np.random.randn(N)\n",
    "# getting data of the histogram\n",
    "\n",
    "tmp_users_rating_count  = user_rating_counts[user_rating_counts['ratings_count'] > 100]\n",
    "tmp_recipe_rating_count = recipe_rating_counts[recipe_rating_counts['recipe_ratings_count'] > 100]\n",
    "\n",
    "count_u, bins_count_u = np.histogram(tmp_users_rating_count['ratings_count'].to_numpy(), bins=50)\n",
    "count_r, bins_count_r = np.histogram(tmp_recipe_rating_count['recipe_ratings_count'].to_numpy(), bins=50) \n",
    "\n",
    "# using numpy np.cumsum to calculate the CDF\n",
    "# We can also find using the PDF values by looping and adding\n",
    "pdf_u = count_u / sum(count_u)\n",
    "cdf_u = np.cumsum(pdf_u)\n",
    "\n",
    "pdf_r = count_r / sum(count_r)\n",
    "cdf_r = np.cumsum(pdf_r)\n",
    "  \n",
    "# plotting PDF and CDF\n",
    "plt.plot(bins_count_u[1:], cdf_u, label=\"User CDF\")\n",
    "plt.plot(bins_count_r[1:], cdf_r, label=\"Recipe CDF\")\n",
    "plt.legend()\n",
    "plt.xlabel('Ratings Count')\n",
    "plt.ylabel('Dist')"
   ]
  },
  {
   "cell_type": "markdown",
   "metadata": {
    "id": "ctKTtLUI-tdz"
   },
   "source": [
    "###Get the ratings average"
   ]
  },
  {
   "cell_type": "code",
   "execution_count": 21,
   "metadata": {
    "colab": {
     "base_uri": "https://localhost:8080/"
    },
    "id": "M9AfJx3eYeln",
    "outputId": "d55a713c-e3cc-4f22-ec22-a6b2028b2374"
   },
   "outputs": [
    {
     "data": {
      "text/plain": [
       "4.888541122532238"
      ]
     },
     "execution_count": 21,
     "metadata": {},
     "output_type": "execute_result"
    }
   ],
   "source": [
    "# How many ratings does the average recipe have:\n",
    "data_recipe = df_review.groupby('recipe_id').agg({'user_id':'nunique'}).reset_index().sort_values(by='user_id',ascending=False)\n",
    "data_recipe['user_id'].mean()\n"
   ]
  },
  {
   "cell_type": "code",
   "execution_count": 22,
   "metadata": {
    "colab": {
     "base_uri": "https://localhost:8080/"
    },
    "id": "4yO5tHOodJwg",
    "outputId": "0437c413-ba46-4137-94d4-efa560a0f981"
   },
   "outputs": [
    {
     "data": {
      "text/plain": [
       "4.411016039852804"
      ]
     },
     "execution_count": 22,
     "metadata": {},
     "output_type": "execute_result"
    }
   ],
   "source": [
    "# what is the average rating?\n",
    "df_review['rating'].mean()"
   ]
  },
  {
   "cell_type": "code",
   "execution_count": 23,
   "metadata": {
    "colab": {
     "base_uri": "https://localhost:8080/",
     "height": 313
    },
    "id": "179aXwy2h4xz",
    "outputId": "93e391ab-8b06-426f-a3e1-6ae71fb8ea14"
   },
   "outputs": [
    {
     "data": {
      "text/plain": [
       "[Text(0.5, 1.0, 'Recipe Rating Distribution')]"
      ]
     },
     "execution_count": 23,
     "metadata": {},
     "output_type": "execute_result"
    },
    {
     "data": {
      "image/png": "[encoded data removed]",
      "text/plain": [
       "<Figure size 432x288 with 1 Axes>"
      ]
     },
     "metadata": {
      "needs_background": "light"
     },
     "output_type": "display_data"
    }
   ],
   "source": [
    "ratings_dist = df_review.groupby('rating').agg({'recipe_id':'count'}).reset_index()\n",
    "\n",
    "sns.barplot(data=ratings_dist, x=\"rating\",y=\"recipe_id\",color = 'blue').set(title='Recipe Rating Distribution')"
   ]
  },
  {
   "cell_type": "code",
   "execution_count": null,
   "metadata": {
    "id": "mZqDZ7XZuEEF"
   },
   "outputs": [],
   "source": []
  },
  {
   "cell_type": "markdown",
   "metadata": {
    "id": "LNgpJmfhuJ0r"
   },
   "source": [
    "# Colaborative based filtering"
   ]
  },
  {
   "cell_type": "code",
   "execution_count": 24,
   "metadata": {
    "colab": {
     "base_uri": "https://localhost:8080/"
    },
    "id": "YLDdl7ekf-la",
    "outputId": "ab5b5a18-8931-43e3-e7cf-40d83f1bbc7c"
   },
   "outputs": [
    {
     "name": "stdout",
     "output_type": "stream",
     "text": [
      "Looking in indexes: https://artifactory-haproxy.service.intradsm1.consul.csnzoo.com:8099/artifactory/api/pypi/python/simple, https://artifactory-haproxy.service.intradsm1.consul.csnzoo.com:8099/artifactory/api/pypi/pypi-mirror/simple\n",
      "Requirement already satisfied: surprise in /opt/conda/lib/python3.7/site-packages (0.1)\n",
      "Requirement already satisfied: scikit-surprise in /opt/conda/lib/python3.7/site-packages (from surprise) (1.1.1)\n",
      "Requirement already satisfied: joblib>=0.11 in /opt/conda/lib/python3.7/site-packages (from scikit-surprise->surprise) (1.0.1)\n",
      "Requirement already satisfied: six>=1.10.0 in /opt/conda/lib/python3.7/site-packages (from scikit-surprise->surprise) (1.16.0)\n",
      "Requirement already satisfied: scipy>=1.0.0 in /opt/conda/lib/python3.7/site-packages (from scikit-surprise->surprise) (1.7.3)\n",
      "Requirement already satisfied: numpy>=1.11.2 in /opt/conda/lib/python3.7/site-packages (from scikit-surprise->surprise) (1.21.6)\n",
      "Note: you may need to restart the kernel to use updated packages.\n"
     ]
    }
   ],
   "source": [
    "pip install surprise"
   ]
  },
  {
   "cell_type": "code",
   "execution_count": 25,
   "metadata": {
    "id": "MmBkU1rN4Jx9"
   },
   "outputs": [],
   "source": [
    "from surprise.dataset import Dataset\n",
    "from surprise.reader import Reader\n",
    "from surprise.model_selection import train_test_split\n",
    "from surprise.accuracy import rmse\n",
    "from surprise import SVD, KNNBaseline, KNNBasic, KNNWithMeans\n",
    "from surprise.model_selection import cross_validate\n",
    "from surprise import NormalPredictor\n",
    "\n",
    "from collections import defaultdict"
   ]
  },
  {
   "cell_type": "markdown",
   "metadata": {
    "id": "Vyk6C61F0Kjo"
   },
   "source": [
    "## First some data cleaning"
   ]
  },
  {
   "cell_type": "code",
   "execution_count": 26,
   "metadata": {
    "id": "3uA9e5gK0OAw"
   },
   "outputs": [],
   "source": [
    "# filter down to only users who have more than x ratings\n",
    "\n",
    "def filt_data(df, more_than_x_reviews_per_user, more_than_x_reviews_per_recipe):\n",
    "  df_mrg = df.merge(user_rating_counts[['user_id','ratings_count']],\n",
    "                how='left',\n",
    "                on='user_id')\n",
    "  \n",
    "  \n",
    "  df_mrg = df_mrg.merge(recipe_rating_counts[['recipe_id','recipe_ratings_count']],\n",
    "                how='left',\n",
    "                on='recipe_id')\n",
    "  \n",
    "\n",
    "\n",
    "  df_filt = df_mrg[df_mrg['ratings_count']>more_than_x_reviews_per_user]\n",
    "  df_filt = df_filt[df_filt['recipe_ratings_count']>more_than_x_reviews_per_recipe]\n",
    "  df_filt = df_filt[['user_id','recipe_id','rating']]\n",
    "  \n",
    "  # get user and recipe counts\n",
    "  uniq_users = df_filt['user_id'].nunique()\n",
    "  uniq_recipes = df_filt['recipe_id'].nunique() \n",
    "  \n",
    "\n",
    "\n",
    "\n",
    "\n",
    "  print('User count of filtered data: %s' % uniq_users)\n",
    "  print('Recipe count of filtered data: %s' % uniq_recipes) \n",
    "\n",
    "  # # change column names\n",
    "  df_filt = df_filt.rename(columns={'user_id':'userID','recipe_id':'itemID'})\n",
    "\n",
    "  return df_filt\n",
    "\n",
    "\n",
    "\n",
    "\n",
    "# use this if we want to remove zero ratings\n",
    "def filt_zeros(df, remove_zeros):\n",
    "  if remove_zeros == True:\n",
    "    df_filt = df[df['rating']!=0]\n",
    "  else:\n",
    "    df_filt = df\n",
    "  return df_filt\n"
   ]
  },
  {
   "cell_type": "code",
   "execution_count": 27,
   "metadata": {
    "colab": {
     "base_uri": "https://localhost:8080/"
    },
    "id": "gnbggsTW6WRj",
    "outputId": "d963b1aa-bb06-4027-c11c-dad0b38d5877"
   },
   "outputs": [
    {
     "name": "stdout",
     "output_type": "stream",
     "text": [
      "User count of filtered data: 11416\n",
      "Recipe count of filtered data: 18673\n"
     ]
    }
   ],
   "source": [
    "remove_zeros = True\n",
    "min_user_review_count = 10\n",
    "min_recipe_review_count = 10\n",
    "\n",
    "\n",
    "df_review_cf_filt = filt_zeros(df_review, remove_zeros)\n",
    "df_review_cf_filt = filt_data(df_review_cf_filt, min_user_review_count,min_recipe_review_count) # set minimum review count\n"
   ]
  },
  {
   "cell_type": "code",
   "execution_count": 28,
   "metadata": {
    "colab": {
     "base_uri": "https://localhost:8080/",
     "height": 424
    },
    "id": "QNrSyQ3ESbXc",
    "outputId": "e0acc7a3-35c0-461a-efa4-c8488696c006"
   },
   "outputs": [
    {
     "data": {
      "text/html": [
       "<div>\n",
       "<style scoped>\n",
       "    .dataframe tbody tr th:only-of-type {\n",
       "        vertical-align: middle;\n",
       "    }\n",
       "\n",
       "    .dataframe tbody tr th {\n",
       "        vertical-align: top;\n",
       "    }\n",
       "\n",
       "    .dataframe thead th {\n",
       "        text-align: right;\n",
       "    }\n",
       "</style>\n",
       "<table border=\"1\" class=\"dataframe\">\n",
       "  <thead>\n",
       "    <tr style=\"text-align: right;\">\n",
       "      <th></th>\n",
       "      <th>userID</th>\n",
       "      <th>itemID</th>\n",
       "      <th>rating</th>\n",
       "    </tr>\n",
       "  </thead>\n",
       "  <tbody>\n",
       "    <tr>\n",
       "      <th>28</th>\n",
       "      <td>56680</td>\n",
       "      <td>79222</td>\n",
       "      <td>5</td>\n",
       "    </tr>\n",
       "    <tr>\n",
       "      <th>39</th>\n",
       "      <td>183565</td>\n",
       "      <td>79222</td>\n",
       "      <td>5</td>\n",
       "    </tr>\n",
       "    <tr>\n",
       "      <th>40</th>\n",
       "      <td>101823</td>\n",
       "      <td>79222</td>\n",
       "      <td>5</td>\n",
       "    </tr>\n",
       "    <tr>\n",
       "      <th>42</th>\n",
       "      <td>446143</td>\n",
       "      <td>79222</td>\n",
       "      <td>4</td>\n",
       "    </tr>\n",
       "    <tr>\n",
       "      <th>43</th>\n",
       "      <td>226989</td>\n",
       "      <td>79222</td>\n",
       "      <td>4</td>\n",
       "    </tr>\n",
       "    <tr>\n",
       "      <th>...</th>\n",
       "      <td>...</td>\n",
       "      <td>...</td>\n",
       "      <td>...</td>\n",
       "    </tr>\n",
       "    <tr>\n",
       "      <th>1071467</th>\n",
       "      <td>133933</td>\n",
       "      <td>82303</td>\n",
       "      <td>5</td>\n",
       "    </tr>\n",
       "    <tr>\n",
       "      <th>1071509</th>\n",
       "      <td>143592</td>\n",
       "      <td>82303</td>\n",
       "      <td>5</td>\n",
       "    </tr>\n",
       "    <tr>\n",
       "      <th>1071510</th>\n",
       "      <td>140132</td>\n",
       "      <td>82303</td>\n",
       "      <td>5</td>\n",
       "    </tr>\n",
       "    <tr>\n",
       "      <th>1071511</th>\n",
       "      <td>199020</td>\n",
       "      <td>82303</td>\n",
       "      <td>5</td>\n",
       "    </tr>\n",
       "    <tr>\n",
       "      <th>1071512</th>\n",
       "      <td>1122988</td>\n",
       "      <td>82303</td>\n",
       "      <td>5</td>\n",
       "    </tr>\n",
       "  </tbody>\n",
       "</table>\n",
       "<p>366509 rows × 3 columns</p>\n",
       "</div>"
      ],
      "text/plain": [
       "          userID  itemID  rating\n",
       "28         56680   79222       5\n",
       "39        183565   79222       5\n",
       "40        101823   79222       5\n",
       "42        446143   79222       4\n",
       "43        226989   79222       4\n",
       "...          ...     ...     ...\n",
       "1071467   133933   82303       5\n",
       "1071509   143592   82303       5\n",
       "1071510   140132   82303       5\n",
       "1071511   199020   82303       5\n",
       "1071512  1122988   82303       5\n",
       "\n",
       "[366509 rows x 3 columns]"
      ]
     },
     "execution_count": 28,
     "metadata": {},
     "output_type": "execute_result"
    }
   ],
   "source": [
    "df_review_cf_filt"
   ]
  },
  {
   "cell_type": "markdown",
   "metadata": {
    "id": "JEG0Nf-44rcd"
   },
   "source": [
    "### First lets get a baseline of what a random predictor would be"
   ]
  },
  {
   "cell_type": "code",
   "execution_count": 29,
   "metadata": {
    "id": "JborrSEfT48r"
   },
   "outputs": [],
   "source": [
    "reader = Reader(rating_scale=(1,5))\n",
    "\n",
    "surprise_reviews = Dataset.load_from_df(df_review_cf_filt, reader)\n",
    "\n",
    "trainSet = surprise_reviews.build_full_trainset()"
   ]
  },
  {
   "cell_type": "code",
   "execution_count": null,
   "metadata": {
    "id": "A1yb9Db_gz5M"
   },
   "outputs": [],
   "source": []
  },
  {
   "cell_type": "code",
   "execution_count": 30,
   "metadata": {
    "colab": {
     "base_uri": "https://localhost:8080/"
    },
    "id": "_GOWAcmNRzYd",
    "outputId": "74658640-90b3-468d-d1ba-44413be9740c"
   },
   "outputs": [
    {
     "name": "stdout",
     "output_type": "stream",
     "text": [
      "Evaluating RMSE of algorithm NormalPredictor on 5 split(s).\n",
      "\n",
      "                  Fold 1  Fold 2  Fold 3  Fold 4  Fold 5  Mean    Std     \n",
      "RMSE (testset)    0.7642  0.7707  0.7583  0.7651  0.7638  0.7644  0.0040  \n",
      "Fit time          0.47    0.66    0.67    0.66    0.66    0.62    0.08    \n",
      "Test time         0.76    0.51    0.76    0.74    0.75    0.71    0.10    \n"
     ]
    },
    {
     "data": {
      "text/plain": [
       "{'test_rmse': array([0.76418777, 0.77071018, 0.75826072, 0.76512426, 0.76381382]),\n",
       " 'fit_time': (0.46640849113464355,\n",
       "  0.6627330780029297,\n",
       "  0.669177770614624,\n",
       "  0.6553745269775391,\n",
       "  0.6591546535491943),\n",
       " 'test_time': (0.7648332118988037,\n",
       "  0.5087230205535889,\n",
       "  0.7593417167663574,\n",
       "  0.7446107864379883,\n",
       "  0.7521777153015137)}"
      ]
     },
     "execution_count": 30,
     "metadata": {},
     "output_type": "execute_result"
    }
   ],
   "source": [
    "algo = NormalPredictor()\n",
    "cross_validate(algo, surprise_reviews, measures=['RMSE'],cv=5,verbose=True)"
   ]
  },
  {
   "cell_type": "markdown",
   "metadata": {
    "id": "5gSxhLnqJcOZ"
   },
   "source": [
    "# MODEL #1 - user based Basic KNN"
   ]
  },
  {
   "cell_type": "code",
   "execution_count": 31,
   "metadata": {
    "id": "jE1XGRrhNXYg"
   },
   "outputs": [],
   "source": [
    "# this will allow us to put the pred results into a df\n",
    "def get_pred_df(pred):\n",
    "  df = pd.DataFrame(pred, columns=['uid', 'iid', 'rui', 'est', 'details'])\n",
    "  return df"
   ]
  },
  {
   "cell_type": "code",
   "execution_count": 32,
   "metadata": {
    "id": "ETUZZA8lT6nq"
   },
   "outputs": [],
   "source": [
    "Trainset, Testset = train_test_split(surprise_reviews, test_size=.3, random_state=1)"
   ]
  },
  {
   "cell_type": "code",
   "execution_count": 33,
   "metadata": {
    "id": "1i-4irq3NVhn"
   },
   "outputs": [],
   "source": [
    "def get_pred_df(pred):\n",
    "  df = pd.DataFrame(pred, columns=['uid', 'iid', 'rui', 'est', 'details'])\n",
    "  return df"
   ]
  },
  {
   "cell_type": "code",
   "execution_count": 34,
   "metadata": {
    "id": "uuAeGvWXIPXo"
   },
   "outputs": [],
   "source": [
    "knnbasic = KNNBasic(sim_options={'name':'cosine',\n",
    "                                 'user_based':True,\n",
    "                                 'min_support':True,\n",
    "                                 'min_k':2})"
   ]
  },
  {
   "cell_type": "code",
   "execution_count": 35,
   "metadata": {
    "colab": {
     "base_uri": "https://localhost:8080/"
    },
    "id": "oe1heoUuI2UZ",
    "outputId": "34e80305-687e-4323-d8b6-c4a01ba739b0"
   },
   "outputs": [
    {
     "name": "stdout",
     "output_type": "stream",
     "text": [
      "Computing the cosine similarity matrix...\n",
      "Done computing similarity matrix.\n"
     ]
    },
    {
     "data": {
      "text/plain": [
       "<surprise.prediction_algorithms.knns.KNNBasic at 0x7f78da4a22d0>"
      ]
     },
     "execution_count": 35,
     "metadata": {},
     "output_type": "execute_result"
    }
   ],
   "source": [
    "knnbasic.fit(Trainset)"
   ]
  },
  {
   "cell_type": "code",
   "execution_count": 36,
   "metadata": {
    "id": "FtVrOEnfJaAA"
   },
   "outputs": [],
   "source": [
    "knnbasicpred = knnbasic.test(Testset)"
   ]
  },
  {
   "cell_type": "code",
   "execution_count": 37,
   "metadata": {
    "colab": {
     "base_uri": "https://localhost:8080/"
    },
    "id": "Gd7mQCleJaDA",
    "outputId": "d58e1831-951a-483e-adab-2a0af0097b81"
   },
   "outputs": [
    {
     "name": "stdout",
     "output_type": "stream",
     "text": [
      "RMSE: 0.6471\n"
     ]
    }
   ],
   "source": [
    "basicknn_rmse = rmse(knnbasicpred)"
   ]
  },
  {
   "cell_type": "code",
   "execution_count": 38,
   "metadata": {
    "colab": {
     "base_uri": "https://localhost:8080/",
     "height": 424
    },
    "id": "E_1ll59PNMqH",
    "outputId": "0cb33a6a-c76a-4507-c7d9-ae17e22419aa"
   },
   "outputs": [
    {
     "data": {
      "text/html": [
       "<div>\n",
       "<style scoped>\n",
       "    .dataframe tbody tr th:only-of-type {\n",
       "        vertical-align: middle;\n",
       "    }\n",
       "\n",
       "    .dataframe tbody tr th {\n",
       "        vertical-align: top;\n",
       "    }\n",
       "\n",
       "    .dataframe thead th {\n",
       "        text-align: right;\n",
       "    }\n",
       "</style>\n",
       "<table border=\"1\" class=\"dataframe\">\n",
       "  <thead>\n",
       "    <tr style=\"text-align: right;\">\n",
       "      <th></th>\n",
       "      <th>uid</th>\n",
       "      <th>iid</th>\n",
       "      <th>rui</th>\n",
       "      <th>est</th>\n",
       "      <th>details</th>\n",
       "    </tr>\n",
       "  </thead>\n",
       "  <tbody>\n",
       "    <tr>\n",
       "      <th>0</th>\n",
       "      <td>328000</td>\n",
       "      <td>62236</td>\n",
       "      <td>2.0</td>\n",
       "      <td>4.250000</td>\n",
       "      <td>{'actual_k': 4, 'was_impossible': False}</td>\n",
       "    </tr>\n",
       "    <tr>\n",
       "      <th>1</th>\n",
       "      <td>31499</td>\n",
       "      <td>75628</td>\n",
       "      <td>5.0</td>\n",
       "      <td>4.333563</td>\n",
       "      <td>{'actual_k': 15, 'was_impossible': False}</td>\n",
       "    </tr>\n",
       "    <tr>\n",
       "      <th>2</th>\n",
       "      <td>156842</td>\n",
       "      <td>16575</td>\n",
       "      <td>5.0</td>\n",
       "      <td>4.731029</td>\n",
       "      <td>{'was_impossible': True, 'reason': 'Not enough...</td>\n",
       "    </tr>\n",
       "    <tr>\n",
       "      <th>3</th>\n",
       "      <td>445711</td>\n",
       "      <td>3092</td>\n",
       "      <td>4.0</td>\n",
       "      <td>4.875277</td>\n",
       "      <td>{'actual_k': 8, 'was_impossible': False}</td>\n",
       "    </tr>\n",
       "    <tr>\n",
       "      <th>4</th>\n",
       "      <td>1595619</td>\n",
       "      <td>15411</td>\n",
       "      <td>4.0</td>\n",
       "      <td>4.312500</td>\n",
       "      <td>{'actual_k': 16, 'was_impossible': False}</td>\n",
       "    </tr>\n",
       "    <tr>\n",
       "      <th>...</th>\n",
       "      <td>...</td>\n",
       "      <td>...</td>\n",
       "      <td>...</td>\n",
       "      <td>...</td>\n",
       "      <td>...</td>\n",
       "    </tr>\n",
       "    <tr>\n",
       "      <th>109948</th>\n",
       "      <td>562865</td>\n",
       "      <td>42603</td>\n",
       "      <td>5.0</td>\n",
       "      <td>4.599875</td>\n",
       "      <td>{'actual_k': 40, 'was_impossible': False}</td>\n",
       "    </tr>\n",
       "    <tr>\n",
       "      <th>109949</th>\n",
       "      <td>429769</td>\n",
       "      <td>32317</td>\n",
       "      <td>5.0</td>\n",
       "      <td>4.896026</td>\n",
       "      <td>{'actual_k': 19, 'was_impossible': False}</td>\n",
       "    </tr>\n",
       "    <tr>\n",
       "      <th>109950</th>\n",
       "      <td>194755</td>\n",
       "      <td>98985</td>\n",
       "      <td>5.0</td>\n",
       "      <td>5.000000</td>\n",
       "      <td>{'actual_k': 1, 'was_impossible': False}</td>\n",
       "    </tr>\n",
       "    <tr>\n",
       "      <th>109951</th>\n",
       "      <td>47907</td>\n",
       "      <td>62343</td>\n",
       "      <td>4.0</td>\n",
       "      <td>4.638320</td>\n",
       "      <td>{'actual_k': 11, 'was_impossible': False}</td>\n",
       "    </tr>\n",
       "    <tr>\n",
       "      <th>109952</th>\n",
       "      <td>140132</td>\n",
       "      <td>57772</td>\n",
       "      <td>5.0</td>\n",
       "      <td>4.699609</td>\n",
       "      <td>{'actual_k': 40, 'was_impossible': False}</td>\n",
       "    </tr>\n",
       "  </tbody>\n",
       "</table>\n",
       "<p>109953 rows × 5 columns</p>\n",
       "</div>"
      ],
      "text/plain": [
       "            uid    iid  rui       est  \\\n",
       "0        328000  62236  2.0  4.250000   \n",
       "1         31499  75628  5.0  4.333563   \n",
       "2        156842  16575  5.0  4.731029   \n",
       "3        445711   3092  4.0  4.875277   \n",
       "4       1595619  15411  4.0  4.312500   \n",
       "...         ...    ...  ...       ...   \n",
       "109948   562865  42603  5.0  4.599875   \n",
       "109949   429769  32317  5.0  4.896026   \n",
       "109950   194755  98985  5.0  5.000000   \n",
       "109951    47907  62343  4.0  4.638320   \n",
       "109952   140132  57772  5.0  4.699609   \n",
       "\n",
       "                                                  details  \n",
       "0                {'actual_k': 4, 'was_impossible': False}  \n",
       "1               {'actual_k': 15, 'was_impossible': False}  \n",
       "2       {'was_impossible': True, 'reason': 'Not enough...  \n",
       "3                {'actual_k': 8, 'was_impossible': False}  \n",
       "4               {'actual_k': 16, 'was_impossible': False}  \n",
       "...                                                   ...  \n",
       "109948          {'actual_k': 40, 'was_impossible': False}  \n",
       "109949          {'actual_k': 19, 'was_impossible': False}  \n",
       "109950           {'actual_k': 1, 'was_impossible': False}  \n",
       "109951          {'actual_k': 11, 'was_impossible': False}  \n",
       "109952          {'actual_k': 40, 'was_impossible': False}  \n",
       "\n",
       "[109953 rows x 5 columns]"
      ]
     },
     "execution_count": 38,
     "metadata": {},
     "output_type": "execute_result"
    }
   ],
   "source": [
    "get_pred_df(knnbasicpred)"
   ]
  },
  {
   "cell_type": "markdown",
   "metadata": {
    "id": "Pj9aCyPcKYbi"
   },
   "source": [
    "# MODEL #2 - user based baseline KNN"
   ]
  },
  {
   "cell_type": "code",
   "execution_count": 39,
   "metadata": {
    "colab": {
     "base_uri": "https://localhost:8080/"
    },
    "id": "cs-4IqCJJaIQ",
    "outputId": "e3f1a247-3165-4c92-b4bc-ff5485b0bdf0"
   },
   "outputs": [
    {
     "name": "stdout",
     "output_type": "stream",
     "text": [
      "Estimating biases using als...\n",
      "Computing the cosine similarity matrix...\n",
      "Done computing similarity matrix.\n"
     ]
    }
   ],
   "source": [
    "knnbasic = KNNBaseline(sim_options={'name':'cosine',\n",
    "                                 'user_based':True,\n",
    "                                 'min_support':True,\n",
    "                                 'min_k':2})\n",
    "\n",
    "knnbasic.fit(Trainset)\n",
    "knnbasicpred = knnbasic.test(Testset)\n"
   ]
  },
  {
   "cell_type": "code",
   "execution_count": 40,
   "metadata": {
    "colab": {
     "base_uri": "https://localhost:8080/"
    },
    "id": "4MUaUuYZJaLJ",
    "outputId": "913f1ad7-a016-44de-c590-d9935987cd95"
   },
   "outputs": [
    {
     "name": "stdout",
     "output_type": "stream",
     "text": [
      "RMSE: 0.6010\n"
     ]
    }
   ],
   "source": [
    "basicknn_rmse = rmse(knnbasicpred)"
   ]
  },
  {
   "cell_type": "code",
   "execution_count": 41,
   "metadata": {
    "colab": {
     "base_uri": "https://localhost:8080/"
    },
    "id": "N1GaGnSROj-V",
    "outputId": "18225801-9f8d-4f0c-c8d8-23e76369ac50"
   },
   "outputs": [
    {
     "data": {
      "text/plain": [
       "<surprise.trainset.Trainset at 0x7f78d0f6e250>"
      ]
     },
     "execution_count": 41,
     "metadata": {},
     "output_type": "execute_result"
    }
   ],
   "source": [
    "Trainset"
   ]
  },
  {
   "cell_type": "markdown",
   "metadata": {
    "id": "tDLmzz6UhnzH"
   },
   "source": [
    "# MODEL #3 - item to item based baseline KNN"
   ]
  },
  {
   "cell_type": "code",
   "execution_count": 42,
   "metadata": {
    "colab": {
     "base_uri": "https://localhost:8080/"
    },
    "id": "QrBBTtLThm4Q",
    "outputId": "d88f1ea8-66c5-45b7-f3da-a3c52f0e527c"
   },
   "outputs": [
    {
     "name": "stdout",
     "output_type": "stream",
     "text": [
      "Estimating biases using als...\n",
      "Computing the cosine similarity matrix...\n",
      "Done computing similarity matrix.\n"
     ]
    },
    {
     "data": {
      "text/plain": [
       "<surprise.prediction_algorithms.knns.KNNBaseline at 0x7f78ce6d7e90>"
      ]
     },
     "execution_count": 42,
     "metadata": {},
     "output_type": "execute_result"
    }
   ],
   "source": [
    "\n",
    "knnbasic_ii = KNNBaseline(sim_options={'name':'cosine',\n",
    "                                 'user_based':False,\n",
    "                                 'min_support':True,\n",
    "                                 'min_k':2})\n",
    "knnbasic_ii.fit(Trainset)\n"
   ]
  },
  {
   "cell_type": "code",
   "execution_count": 43,
   "metadata": {
    "id": "5kFqTvqsiJby"
   },
   "outputs": [],
   "source": [
    "knnbasic_ii_pred = knnbasic_ii.test(Testset)"
   ]
  },
  {
   "cell_type": "code",
   "execution_count": 44,
   "metadata": {},
   "outputs": [
    {
     "name": "stdout",
     "output_type": "stream",
     "text": [
      "RMSE: 0.6010\n"
     ]
    }
   ],
   "source": [
    "basicknn_rmse = rmse(knnbasicpred)"
   ]
  },
  {
   "cell_type": "markdown",
   "metadata": {},
   "source": [
    "### return top x "
   ]
  },
  {
   "cell_type": "code",
   "execution_count": 45,
   "metadata": {},
   "outputs": [],
   "source": [
    "df_pred_output = get_pred_df(knnbasic_ii_pred)"
   ]
  },
  {
   "cell_type": "code",
   "execution_count": 46,
   "metadata": {},
   "outputs": [
    {
     "data": {
      "text/html": [
       "<div>\n",
       "<style scoped>\n",
       "    .dataframe tbody tr th:only-of-type {\n",
       "        vertical-align: middle;\n",
       "    }\n",
       "\n",
       "    .dataframe tbody tr th {\n",
       "        vertical-align: top;\n",
       "    }\n",
       "\n",
       "    .dataframe thead th {\n",
       "        text-align: right;\n",
       "    }\n",
       "</style>\n",
       "<table border=\"1\" class=\"dataframe\">\n",
       "  <thead>\n",
       "    <tr style=\"text-align: right;\">\n",
       "      <th></th>\n",
       "      <th>uid</th>\n",
       "      <th>iid</th>\n",
       "      <th>rui</th>\n",
       "      <th>est</th>\n",
       "      <th>details</th>\n",
       "    </tr>\n",
       "  </thead>\n",
       "  <tbody>\n",
       "    <tr>\n",
       "      <th>0</th>\n",
       "      <td>328000</td>\n",
       "      <td>62236</td>\n",
       "      <td>2.0</td>\n",
       "      <td>3.219773</td>\n",
       "      <td>{'actual_k': 2, 'was_impossible': False}</td>\n",
       "    </tr>\n",
       "    <tr>\n",
       "      <th>1</th>\n",
       "      <td>31499</td>\n",
       "      <td>75628</td>\n",
       "      <td>5.0</td>\n",
       "      <td>4.689628</td>\n",
       "      <td>{'actual_k': 26, 'was_impossible': False}</td>\n",
       "    </tr>\n",
       "    <tr>\n",
       "      <th>2</th>\n",
       "      <td>156842</td>\n",
       "      <td>16575</td>\n",
       "      <td>5.0</td>\n",
       "      <td>4.569980</td>\n",
       "      <td>{'actual_k': 0, 'was_impossible': False}</td>\n",
       "    </tr>\n",
       "    <tr>\n",
       "      <th>3</th>\n",
       "      <td>445711</td>\n",
       "      <td>3092</td>\n",
       "      <td>4.0</td>\n",
       "      <td>4.764830</td>\n",
       "      <td>{'actual_k': 24, 'was_impossible': False}</td>\n",
       "    </tr>\n",
       "    <tr>\n",
       "      <th>4</th>\n",
       "      <td>1595619</td>\n",
       "      <td>15411</td>\n",
       "      <td>4.0</td>\n",
       "      <td>4.274175</td>\n",
       "      <td>{'actual_k': 4, 'was_impossible': False}</td>\n",
       "    </tr>\n",
       "    <tr>\n",
       "      <th>...</th>\n",
       "      <td>...</td>\n",
       "      <td>...</td>\n",
       "      <td>...</td>\n",
       "      <td>...</td>\n",
       "      <td>...</td>\n",
       "    </tr>\n",
       "    <tr>\n",
       "      <th>109948</th>\n",
       "      <td>562865</td>\n",
       "      <td>42603</td>\n",
       "      <td>5.0</td>\n",
       "      <td>4.398760</td>\n",
       "      <td>{'actual_k': 27, 'was_impossible': False}</td>\n",
       "    </tr>\n",
       "    <tr>\n",
       "      <th>109949</th>\n",
       "      <td>429769</td>\n",
       "      <td>32317</td>\n",
       "      <td>5.0</td>\n",
       "      <td>4.906606</td>\n",
       "      <td>{'actual_k': 22, 'was_impossible': False}</td>\n",
       "    </tr>\n",
       "    <tr>\n",
       "      <th>109950</th>\n",
       "      <td>194755</td>\n",
       "      <td>98985</td>\n",
       "      <td>5.0</td>\n",
       "      <td>4.805243</td>\n",
       "      <td>{'actual_k': 1, 'was_impossible': False}</td>\n",
       "    </tr>\n",
       "    <tr>\n",
       "      <th>109951</th>\n",
       "      <td>47907</td>\n",
       "      <td>62343</td>\n",
       "      <td>4.0</td>\n",
       "      <td>4.715582</td>\n",
       "      <td>{'actual_k': 32, 'was_impossible': False}</td>\n",
       "    </tr>\n",
       "    <tr>\n",
       "      <th>109952</th>\n",
       "      <td>140132</td>\n",
       "      <td>57772</td>\n",
       "      <td>5.0</td>\n",
       "      <td>4.629689</td>\n",
       "      <td>{'actual_k': 40, 'was_impossible': False}</td>\n",
       "    </tr>\n",
       "  </tbody>\n",
       "</table>\n",
       "<p>109953 rows × 5 columns</p>\n",
       "</div>"
      ],
      "text/plain": [
       "            uid    iid  rui       est  \\\n",
       "0        328000  62236  2.0  3.219773   \n",
       "1         31499  75628  5.0  4.689628   \n",
       "2        156842  16575  5.0  4.569980   \n",
       "3        445711   3092  4.0  4.764830   \n",
       "4       1595619  15411  4.0  4.274175   \n",
       "...         ...    ...  ...       ...   \n",
       "109948   562865  42603  5.0  4.398760   \n",
       "109949   429769  32317  5.0  4.906606   \n",
       "109950   194755  98985  5.0  4.805243   \n",
       "109951    47907  62343  4.0  4.715582   \n",
       "109952   140132  57772  5.0  4.629689   \n",
       "\n",
       "                                          details  \n",
       "0        {'actual_k': 2, 'was_impossible': False}  \n",
       "1       {'actual_k': 26, 'was_impossible': False}  \n",
       "2        {'actual_k': 0, 'was_impossible': False}  \n",
       "3       {'actual_k': 24, 'was_impossible': False}  \n",
       "4        {'actual_k': 4, 'was_impossible': False}  \n",
       "...                                           ...  \n",
       "109948  {'actual_k': 27, 'was_impossible': False}  \n",
       "109949  {'actual_k': 22, 'was_impossible': False}  \n",
       "109950   {'actual_k': 1, 'was_impossible': False}  \n",
       "109951  {'actual_k': 32, 'was_impossible': False}  \n",
       "109952  {'actual_k': 40, 'was_impossible': False}  \n",
       "\n",
       "[109953 rows x 5 columns]"
      ]
     },
     "execution_count": 46,
     "metadata": {},
     "output_type": "execute_result"
    }
   ],
   "source": [
    "df_pred_output"
   ]
  },
  {
   "cell_type": "code",
   "execution_count": 47,
   "metadata": {},
   "outputs": [],
   "source": [
    "# return the top x predictions\n",
    "def get_top_recipes(pred, user_id, n):\n",
    "    pred_mrg = pred.merge(df_recipe[['id','name']],\n",
    "                          how='left',\n",
    "                          left_on='iid',\n",
    "                          right_on='id')\n",
    "    pred_mrg = pred_mrg[pred_mrg['uid'] == user_id].sort_values(by='est', ascending = False)\n",
    "    \n",
    "    pred_mrg = pred_mrg[['uid','iid','name','est']].head(n)\n",
    "    return pred_mrg\n"
   ]
  },
  {
   "cell_type": "code",
   "execution_count": 48,
   "metadata": {},
   "outputs": [
    {
     "data": {
      "text/html": [
       "<div>\n",
       "<style scoped>\n",
       "    .dataframe tbody tr th:only-of-type {\n",
       "        vertical-align: middle;\n",
       "    }\n",
       "\n",
       "    .dataframe tbody tr th {\n",
       "        vertical-align: top;\n",
       "    }\n",
       "\n",
       "    .dataframe thead th {\n",
       "        text-align: right;\n",
       "    }\n",
       "</style>\n",
       "<table border=\"1\" class=\"dataframe\">\n",
       "  <thead>\n",
       "    <tr style=\"text-align: right;\">\n",
       "      <th></th>\n",
       "      <th>uid</th>\n",
       "      <th>iid</th>\n",
       "      <th>name</th>\n",
       "      <th>est</th>\n",
       "    </tr>\n",
       "  </thead>\n",
       "  <tbody>\n",
       "    <tr>\n",
       "      <th>83918</th>\n",
       "      <td>429769</td>\n",
       "      <td>92174</td>\n",
       "      <td>creamed chipped beef  sos</td>\n",
       "      <td>5.000000</td>\n",
       "    </tr>\n",
       "    <tr>\n",
       "      <th>98491</th>\n",
       "      <td>429769</td>\n",
       "      <td>4050</td>\n",
       "      <td>canadian living s best chocolate chip cookies</td>\n",
       "      <td>4.957678</td>\n",
       "    </tr>\n",
       "    <tr>\n",
       "      <th>109949</th>\n",
       "      <td>429769</td>\n",
       "      <td>32317</td>\n",
       "      <td>winter fruit salad with lemon poppy seed dressing</td>\n",
       "      <td>4.906606</td>\n",
       "    </tr>\n",
       "    <tr>\n",
       "      <th>14212</th>\n",
       "      <td>429769</td>\n",
       "      <td>11919</td>\n",
       "      <td>irish pub beef stew</td>\n",
       "      <td>4.871549</td>\n",
       "    </tr>\n",
       "    <tr>\n",
       "      <th>28009</th>\n",
       "      <td>429769</td>\n",
       "      <td>79595</td>\n",
       "      <td>best twice baked potatoes</td>\n",
       "      <td>4.865895</td>\n",
       "    </tr>\n",
       "  </tbody>\n",
       "</table>\n",
       "</div>"
      ],
      "text/plain": [
       "           uid    iid                                               name  \\\n",
       "83918   429769  92174                          creamed chipped beef  sos   \n",
       "98491   429769   4050      canadian living s best chocolate chip cookies   \n",
       "109949  429769  32317  winter fruit salad with lemon poppy seed dressing   \n",
       "14212   429769  11919                                irish pub beef stew   \n",
       "28009   429769  79595                          best twice baked potatoes   \n",
       "\n",
       "             est  \n",
       "83918   5.000000  \n",
       "98491   4.957678  \n",
       "109949  4.906606  \n",
       "14212   4.871549  \n",
       "28009   4.865895  "
      ]
     },
     "execution_count": 48,
     "metadata": {},
     "output_type": "execute_result"
    }
   ],
   "source": [
    "get_top_recipes(df_pred_output, 429769,5)"
   ]
  },
  {
   "cell_type": "markdown",
   "metadata": {},
   "source": [
    "# Model 4 - SVD"
   ]
  },
  {
   "cell_type": "code",
   "execution_count": 49,
   "metadata": {},
   "outputs": [],
   "source": [
    "from surprise import SVD\n",
    "from surprise.model_selection import cross_validate, train_test_split, GridSearchCV"
   ]
  },
  {
   "cell_type": "code",
   "execution_count": 50,
   "metadata": {},
   "outputs": [],
   "source": [
    "\n",
    "param = {'n_factors':[20,50,80],\n",
    "         'reg_all':[.04,0.06],\n",
    "         'n_epochs':[10,20,30],\n",
    "         'lr_all':[.002,.005,.01]}\n",
    "\n"
   ]
  },
  {
   "cell_type": "code",
   "execution_count": 56,
   "metadata": {},
   "outputs": [],
   "source": [
    "rmse_results = []\n",
    "for i in range(1, 50, 1):\n",
    "    algo = SVD(n_factors = i)\n",
    "    avg_rmse = cross_validate(algo, surprise_reviews, measures=['RMSE'], cv=5, verbose=False)[\"test_rmse\"].mean() \n",
    "    rmse_results.append(avg_rmse)\n",
    "  "
   ]
  },
  {
   "cell_type": "code",
   "execution_count": 57,
   "metadata": {},
   "outputs": [],
   "source": [
    "def plot_rmse(rmse, algorithm):\n",
    "    \n",
    "    plt.figure(num=None, figsize=(11, 5), dpi=80, facecolor='w', edgecolor='k')\n",
    "    plt.subplot(2,1,1)\n",
    "    plt.plot(rmse)\n",
    "    plt.xlim(0,100)\n",
    "    plt.title(\"{0} Performance: RMSE Against Number of Factors\".format(algorithm), size = 20 )\n",
    "    plt.ylabel(\"Mean RMSE (cv=5)\")\n",
    "\n",
    "    plt.subplot(2,1,2)\n",
    "    plt.plot(rmse)\n",
    "    plt.xlim(0,50)\n",
    "    plt.xticks(np.arange(0, 52, step=2))\n",
    "\n",
    "    plt.xlabel(\"{0}(n_factor = k)\".format(algorithm))\n",
    "    plt.ylabel(\"Mean RMSE (cv=5)\")\n",
    "    plt.axvline(np.argmin(rmse), color = \"r\")"
   ]
  },
  {
   "cell_type": "code",
   "execution_count": 58,
   "metadata": {},
   "outputs": [
    {
     "data": {
      "image/png": "[encoded data removed]",
      "text/plain": [
       "<Figure size 880x400 with 2 Axes>"
      ]
     },
     "metadata": {},
     "output_type": "display_data"
    }
   ],
   "source": [
    "plot_rmse(rmse_results,\"SVD\")"
   ]
  },
  {
   "cell_type": "code",
   "execution_count": null,
   "metadata": {},
   "outputs": [],
   "source": []
  },
  {
   "cell_type": "code",
   "execution_count": 53,
   "metadata": {},
   "outputs": [
    {
     "ename": "TypeError",
     "evalue": "'SVD' object is not callable",
     "output_type": "error",
     "traceback": [
      "\u001b[0;31m---------------------------------------------------------------------------\u001b[0m",
      "\u001b[0;31mTypeError\u001b[0m                                 Traceback (most recent call last)",
      "\u001b[0;32m/tmp/ipykernel_43680/1624218682.py\u001b[0m in \u001b[0;36m<module>\u001b[0;34m\u001b[0m\n\u001b[0;32m----> 1\u001b[0;31m \u001b[0msvd_validate\u001b[0m \u001b[0;34m=\u001b[0m \u001b[0mfactor_count\u001b[0m\u001b[0;34m(\u001b[0m\u001b[0mSVD\u001b[0m\u001b[0;34m,\u001b[0m \u001b[0msurprise_reviews\u001b[0m\u001b[0;34m)\u001b[0m\u001b[0;34m\u001b[0m\u001b[0;34m\u001b[0m\u001b[0m\n\u001b[0m",
      "\u001b[0;32m/tmp/ipykernel_43680/2699776923.py\u001b[0m in \u001b[0;36mfactor_count\u001b[0;34m(algo, data)\u001b[0m\n\u001b[1;32m      2\u001b[0m   \u001b[0mrmse_results\u001b[0m \u001b[0;34m=\u001b[0m \u001b[0;34m[\u001b[0m\u001b[0;34m]\u001b[0m\u001b[0;34m\u001b[0m\u001b[0;34m\u001b[0m\u001b[0m\n\u001b[1;32m      3\u001b[0m   \u001b[0;32mfor\u001b[0m \u001b[0mi\u001b[0m \u001b[0;32min\u001b[0m \u001b[0mrange\u001b[0m\u001b[0;34m(\u001b[0m\u001b[0;36m1\u001b[0m\u001b[0;34m,\u001b[0m \u001b[0;36m50\u001b[0m\u001b[0;34m,\u001b[0m \u001b[0;36m1\u001b[0m\u001b[0;34m)\u001b[0m\u001b[0;34m:\u001b[0m\u001b[0;34m\u001b[0m\u001b[0;34m\u001b[0m\u001b[0m\n\u001b[0;32m----> 4\u001b[0;31m     \u001b[0malgo\u001b[0m \u001b[0;34m=\u001b[0m \u001b[0malgo\u001b[0m\u001b[0;34m(\u001b[0m\u001b[0mn_factors\u001b[0m \u001b[0;34m=\u001b[0m \u001b[0mi\u001b[0m\u001b[0;34m)\u001b[0m\u001b[0;34m\u001b[0m\u001b[0;34m\u001b[0m\u001b[0m\n\u001b[0m\u001b[1;32m      5\u001b[0m     \u001b[0mavg_rmse\u001b[0m \u001b[0;34m=\u001b[0m \u001b[0mcross_validate\u001b[0m\u001b[0;34m(\u001b[0m\u001b[0malgo\u001b[0m\u001b[0;34m,\u001b[0m \u001b[0mdata\u001b[0m\u001b[0;34m,\u001b[0m \u001b[0mmeasures\u001b[0m\u001b[0;34m=\u001b[0m\u001b[0;34m[\u001b[0m\u001b[0;34m'RMSE'\u001b[0m\u001b[0;34m]\u001b[0m\u001b[0;34m,\u001b[0m \u001b[0mcv\u001b[0m\u001b[0;34m=\u001b[0m\u001b[0;36m5\u001b[0m\u001b[0;34m,\u001b[0m \u001b[0mverbose\u001b[0m\u001b[0;34m=\u001b[0m\u001b[0;32mFalse\u001b[0m\u001b[0;34m)\u001b[0m\u001b[0;34m[\u001b[0m\u001b[0;34m\"test_rmse\"\u001b[0m\u001b[0;34m]\u001b[0m\u001b[0;34m.\u001b[0m\u001b[0mmean\u001b[0m\u001b[0;34m(\u001b[0m\u001b[0;34m)\u001b[0m\u001b[0;34m\u001b[0m\u001b[0;34m\u001b[0m\u001b[0m\n\u001b[1;32m      6\u001b[0m     \u001b[0mrmse_results\u001b[0m\u001b[0;34m.\u001b[0m\u001b[0mappend\u001b[0m\u001b[0;34m(\u001b[0m\u001b[0mavg_rmse\u001b[0m\u001b[0;34m)\u001b[0m\u001b[0;34m\u001b[0m\u001b[0;34m\u001b[0m\u001b[0m\n",
      "\u001b[0;31mTypeError\u001b[0m: 'SVD' object is not callable"
     ]
    }
   ],
   "source": [
    "svd_validate = factor_count(SVD, surprise_reviews)"
   ]
  },
  {
   "cell_type": "code",
   "execution_count": null,
   "metadata": {},
   "outputs": [],
   "source": [
    "svd_validate"
   ]
  },
  {
   "cell_type": "code",
   "execution_count": 61,
   "metadata": {},
   "outputs": [],
   "source": [
    "def plot_rmse(rmse, algorithm):\n",
    "    plt.figure(num=None, figsize=(10, 5), dpi=80, facecolor='w', edgecolor='k')\n",
    "    plt.plot(rmse)\n",
    "    plt.xlim(0,50)\n",
    "    plt.title(\"SVD RMSE Performance vs Factor Count\", size = 20 )\n",
    "    plt.ylabel(\"Avg RMSE\")\n"
   ]
  },
  {
   "cell_type": "code",
   "execution_count": 62,
   "metadata": {},
   "outputs": [
    {
     "data": {
      "image/png": "[encoded data removed]",
      "text/plain": [
       "<Figure size 800x400 with 1 Axes>"
      ]
     },
     "metadata": {},
     "output_type": "display_data"
    }
   ],
   "source": [
    "plot_rmse(rmse_results,\"SVD\")"
   ]
  },
  {
   "cell_type": "code",
   "execution_count": null,
   "metadata": {},
   "outputs": [],
   "source": [
    "svd_validate"
   ]
  },
  {
   "cell_type": "code",
   "execution_count": 63,
   "metadata": {},
   "outputs": [
    {
     "data": {
      "text/plain": [
       "[0.5618337207334081,\n",
       " 0.5617027643852551,\n",
       " 0.5618953627567312,\n",
       " 0.5622537333910667,\n",
       " 0.561919480939958,\n",
       " 0.562163868410854,\n",
       " 0.5623104946004754,\n",
       " 0.5622735070766877,\n",
       " 0.5621766373304237,\n",
       " 0.5621872738101192,\n",
       " 0.5626232042492078,\n",
       " 0.5624518251128674,\n",
       " 0.56272210795037,\n",
       " 0.5629863912136068,\n",
       " 0.5630061373165625,\n",
       " 0.5628583840069438,\n",
       " 0.5629905151259549,\n",
       " 0.5630938146655079,\n",
       " 0.5633615998640364,\n",
       " 0.5630934012409696,\n",
       " 0.5635320648163235,\n",
       " 0.563348151996794,\n",
       " 0.5634881270104455,\n",
       " 0.5631272572988977,\n",
       " 0.563393085175909,\n",
       " 0.56315066856793,\n",
       " 0.5634449417058692,\n",
       " 0.5638665052282393,\n",
       " 0.5637275205546061,\n",
       " 0.5643279457992335,\n",
       " 0.5639395522327406,\n",
       " 0.5639154335384354,\n",
       " 0.5641455434401056,\n",
       " 0.5643235724569917,\n",
       " 0.5644378185539765,\n",
       " 0.5642418878773785,\n",
       " 0.5641458416942281,\n",
       " 0.5644351737083028,\n",
       " 0.5644252013679182,\n",
       " 0.5647006752597294,\n",
       " 0.5645828113200609,\n",
       " 0.5646679482977479,\n",
       " 0.5644957382225242,\n",
       " 0.5646128709049087,\n",
       " 0.5648797916139304,\n",
       " 0.5649897762222218,\n",
       " 0.5652128342940429,\n",
       " 0.5659618132607942,\n",
       " 0.5650811096194379]"
      ]
     },
     "execution_count": 63,
     "metadata": {},
     "output_type": "execute_result"
    }
   ],
   "source": [
    "rmse_results"
   ]
  },
  {
   "cell_type": "code",
   "execution_count": null,
   "metadata": {},
   "outputs": [],
   "source": []
  },
  {
   "cell_type": "code",
   "execution_count": null,
   "metadata": {},
   "outputs": [],
   "source": []
  }
 ],
 "metadata": {
  "colab": {
   "provenance": []
  },
  "environment": {
   "kernel": "python3",
   "name": "common-cpu.m87",
   "type": "gcloud",
   "uri": "gcr.io/deeplearning-platform-release/base-cpu:m87"
  },
  "kernelspec": {
   "display_name": "Python 3",
   "language": "python",
   "name": "python3"
  },
  "language_info": {
   "codemirror_mode": {
    "name": "ipython",
    "version": 3
   },
   "file_extension": ".py",
   "mimetype": "text/x-python",
   "name": "python",
   "nbconvert_exporter": "python",
   "pygments_lexer": "ipython3",
   "version": "3.7.12"
  }
 },
 "nbformat": 4,
 "nbformat_minor": 4
}
