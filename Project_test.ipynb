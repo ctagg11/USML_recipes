{
  "nbformat": 4,
  "nbformat_minor": 0,
  "metadata": {
    "colab": {
      "provenance": []
    },
    "kernelspec": {
      "name": "python3",
      "display_name": "Python 3"
    },
    "language_info": {
      "name": "python"
    }
  },
  "cells": [
    {
      "cell_type": "markdown",
      "source": [
        "# **Recipe Data - EDA**\n",
        "\n",
        "In this secion, we'll explore the raw recipe dataset, found here: \n",
        "\n",
        "\n",
        "https://www.kaggle.com/datasets/shuyangli94/food-com-recipes-and-user-interactions?datasetId=311962&sortBy=voteCount\n",
        "\n",
        "\n",
        "The data comes from food.com - let's first pull in the data and take a look at the basic structure\n"
      ],
      "metadata": {
        "id": "jM4n6PXQYhsO"
      }
    },
    {
      "cell_type": "code",
      "source": [
        "import pandas as pd\n",
        "df_recipe = pd.read_csv('RAW_recipes.csv')"
      ],
      "metadata": {
        "id": "8Jbs0L9IYpMZ"
      },
      "execution_count": 4,
      "outputs": []
    },
    {
      "cell_type": "code",
      "source": [
        "# Read the feature names\n",
        "df_recipe.columns"
      ],
      "metadata": {
        "colab": {
          "base_uri": "https://localhost:8080/"
        },
        "id": "1BISCOsKZEef",
        "outputId": "025aa120-b410-4155-852b-205b2817d36a"
      },
      "execution_count": 10,
      "outputs": [
        {
          "output_type": "execute_result",
          "data": {
            "text/plain": [
              "Index(['name', 'id', 'minutes', 'contributor_id', 'submitted', 'tags',\n",
              "       'nutrition', 'n_steps', 'steps', 'description', 'ingredients',\n",
              "       'n_ingredients'],\n",
              "      dtype='object')"
            ]
          },
          "metadata": {},
          "execution_count": 10
        }
      ]
    },
    {
      "cell_type": "markdown",
      "source": [
        "Each row is a unique recipe, with an name and id. It also comes with a contributor id and submitted time. Some of the features include cook time (minutes), tags, nutritional values, number of steps, and number of ingrediantes. The bulk of the text content will likely come from the 'steps', 'description' and 'ingredients' columns."
      ],
      "metadata": {
        "id": "GTLlCm-AZf3d"
      }
    },
    {
      "cell_type": "code",
      "source": [
        "# get basic counts\n",
        "rec_count       = df_recipe['id'].nunique()\n",
        "cont_count      = df_recipe['contributor_id'].nunique()\n",
        "avg_contr_count = df_recipe.groupby('contributor_id').agg({'id':'nunique'}).reset_index()['id'].mean()\n",
        "\n",
        "print('The total recipe count is %s' % rec_count)\n",
        "print('The count of unique contributors %s' % cont_count)\n",
        "print('The avg amount of recipe submissions by user is %s' % round(avg_contr_count,2))"
      ],
      "metadata": {
        "colab": {
          "base_uri": "https://localhost:8080/"
        },
        "id": "WgZ4OQm1ZMie",
        "outputId": "8675fb35-4116-4895-b38e-266f195d3635"
      },
      "execution_count": 18,
      "outputs": [
        {
          "output_type": "stream",
          "name": "stdout",
          "text": [
            "The total recipe count is 105440\n",
            "The count of unique contributors 17881\n",
            "The avg amount of recipe submissions by user is 5.9\n"
          ]
        }
      ]
    },
    {
      "cell_type": "code",
      "source": [],
      "metadata": {
        "id": "kCAcgrRRZdbU"
      },
      "execution_count": null,
      "outputs": []
    }
  ]
}